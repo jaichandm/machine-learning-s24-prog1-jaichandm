{
 "cells": [
  {
   "cell_type": "markdown",
   "metadata": {},
   "source": [
    "## Assignment 1 - Structures and Functions"
   ]
  },
  {
   "cell_type": "markdown",
   "metadata": {},
   "source": [
    "## Part 1\n",
    "* Create a function `c_check(a, p)` which can check if an integer p is composite.  If p is a factor of a, return 'Bad a'. If  $a^{p-1} mod_p$ is one return 'Maybe Prime'. Otherwise return 'Composite'.\n",
    "(You may assume that a and p are non-negative.)\n"
   ]
  },
  {
   "cell_type": "code",
   "execution_count": 3,
   "metadata": {},
   "outputs": [
    {
     "name": "stdout",
     "output_type": "stream",
     "text": [
      "Enter a positive integer for p: 3\n",
      "Enter a positive integer for a: 5\n",
      "Bad a\n"
     ]
    }
   ],
   "source": [
    "def c_check(a, p):\n",
    "    if a>p:\n",
    "        return \"Bad a\"\n",
    "    elif a^(p-1)%p == 1:\n",
    "        return \"Maybe Prime\"\n",
    "    else:\n",
    "        return \"Composite number\"\n",
    "p = int(input(\"Enter a positive integer for p: \"))\n",
    "a = int(input(\"Enter a positive integer for a: \"))\n",
    "print(c_check(a, p))\n"
   ]
  },
  {
   "cell_type": "markdown",
   "metadata": {},
   "source": [
    "## Part 2\n",
    "* Create a function `get_e_x` which takes two arguments x (defaults to 1) and n (defaults to 8). N is the number of term in a summation plus one.\n",
    "\n",
    "$S_n = x^0/0! + x^1/1! + x^2/2! + ... +  x^n/n!$\n",
    "\n",
    "So if x=1 and n=2, you would compute and return $1 + 1+ 1/2 = 5/2$\n",
    "\n",
    "* Create a function `mystery` with two arguments x and n (the number of terms to use plus one. )  Compute enough terms with x=1.5 so that the value of the function is the same to at least 6 places and demonstrate that with the value for two consecutive values of n. \n",
    "\n",
    "$mystery(x,n) = 1 + x^2/2! +  x^4/4! +  ... + x^{2n}/(2n)! $\n",
    "\n",
    "Hint:\n",
    "~~~\n",
    "mystery(1.5,0) is 1.0\n",
    "mystery(1.5,1) is 3.25\n",
    "mystery(1.5,2) is 4.09375\n",
    "~~~\n"
   ]
  },
  {
   "cell_type": "markdown",
   "metadata": {},
   "source": [
    "## Part 3\n",
    "* Implement computation of a recursively defined function.  Here is the recursive formula:\n",
    "\n",
    "$L(n) = \\left\\{ \n",
    "\\begin{array}{ll}\n",
    "1 & if n=0\\\\\n",
    "1 & if n=1\\\\\n",
    "1 & if n=2\\\\\n",
    "L(n-1) - 2L(n-2)+3L(n-3) & if n>2\\\\ \n",
    "\\end{array}\n",
    "\\right. $\n"
   ]
  },
  {
   "cell_type": "markdown",
   "metadata": {},
   "source": [
    "## Part 4\n",
    "* Write a function `counter` that will take a list . Compute the number of values that are divisible by 2. Also compute the number of values that are divisible by 3. Return the results as a tuple.\n",
    "* Write a function `max_freq` that will find a value in the list that occurs the largest number of times. You may assume that all the values in the list are integers. Example: The list [1, 2, 2, 0, 1, 5, 2, 6, 5, 5] has 5 and 2 both with frequency 3, so either 5 or 2 can be returned.\n",
    "* Write a function `pack` that will take a list of integer and an integer `target`. The goal is to choose values from the list that add to the greatest value which is no bigger than the target. Return the list of items choosen. For this packing, always choose the largest value that fits in the remaining space.   Example:  [4, 3, 2, 5, 6 ] with target 14. Pick 6, leaving 8.  Pick 5 leaving 3.  4 is too big.  Pick 3 leaving 0 and we are done.\n",
    "Return[6, 5, 3]\n",
    "\n",
    "The first and third of these functions should work with any sized list (including empty or with just a single value.)  Maximum frequency needs at least one value in the list."
   ]
  },
  {
   "cell_type": "markdown",
   "metadata": {},
   "source": [
    "## Part 5\n",
    "* Write a function `vowels` that takes in a string and will use a dictionary to count the number of times each vowel appears in the string. Use a dict to keep the counts for each vowel. Return the dictionary  Example: \"Bond is 007\" would have 0 map to 2 and 7 map to 1. "
   ]
  },
  {
   "cell_type": "markdown",
   "metadata": {},
   "source": [
    "## Part 6\n",
    "Do at least three calls on each function you created to verify the correct operation."
   ]
  },
  {
   "cell_type": "markdown",
   "metadata": {},
   "source": [
    "## Bonus\n",
    "* Give a new definition for `L(n)` that uses iteration instead of recursion.\n",
    "* Give a new definition for `c_check(a,p)` that uses recursion. Hint: if n is positive you can write $a^n mod_p = (a^{n-1}mod_p \\times a)mod_p $ This allows you to avoid large numbers.\n",
    "\n",
    "* Show that your new functions correspond on some typical arguments to the previous definitions.\n",
    "\n"
   ]
  },
  {
   "cell_type": "code",
   "execution_count": null,
   "metadata": {},
   "outputs": [],
   "source": []
  }
 ],
 "metadata": {
  "kernelspec": {
   "display_name": "Python 3 (ipykernel)",
   "language": "python",
   "name": "python3"
  },
  "language_info": {
   "codemirror_mode": {
    "name": "ipython",
    "version": 3
   },
   "file_extension": ".py",
   "mimetype": "text/x-python",
   "name": "python",
   "nbconvert_exporter": "python",
   "pygments_lexer": "ipython3",
   "version": "3.9.13"
  }
 },
 "nbformat": 4,
 "nbformat_minor": 4
}
